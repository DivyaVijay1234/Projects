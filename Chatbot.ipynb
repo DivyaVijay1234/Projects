{
 "cells": [
  {
   "cell_type": "code",
   "execution_count": 1,
   "id": "1e384882",
   "metadata": {},
   "outputs": [
    {
     "name": "stdout",
     "output_type": "stream",
     "text": [
      "Hello! I'm a simple chatbot. You can type 'bye' to exit.\n",
      "You: hi\n",
      "Chatbot: H i   t h e r e !\n",
      "You: how are you?\n",
      "Chatbot: I   a m   j u s t   a   c h a t b o t .   I   d o   n o t   h a v e   f e e l i n g s .   H o w   c a n   I   a s s i s t   y o u ?\n",
      "You: what is your name?\n",
      "Chatbot: I ' m   j u s t   a   c h a t b o t ,   s o   I   d o n ' t   h a v e   a   n a m e .\n",
      "You: what is your job?\n",
      "Chatbot: I cannot answer this question at the moment.\n",
      "You: bye\n",
      "Chatbot: Goodbye!\n"
     ]
    }
   ],
   "source": [
    "import nltk\n",
    "from nltk.chat.util import Chat, reflections\n",
    "\n",
    "# Define some patterns and responses for the chatbot\n",
    "patterns = [\n",
    "    (r'hello|hi|hey', ['Hello!', 'Hi there!', 'Hey!']),\n",
    "    (r'Good morning|Good afternoon|Good evening|Good night', ['Good morning!', 'Good afternoon!', 'Good evening!', 'Good night!']),\n",
    "    (r'how are you|how are you doing', ['I am just a chatbot. I do not have feelings. How can I assist you?']),\n",
    "    (r'what is your name', [\"I'm just a chatbot, so I don't have a name.\"]),\n",
    "    (r'what can you do|what do you do', [\"I can answer questions and have conversations with you.\"]),\n",
    "    (r'bye|goodbye', ['Goodbye!', 'See you later!']),\n",
    "]\n",
    "\n",
    "# Default response for questions the chatbot cannot answer\n",
    "default_response = \"I cannot answer this question at the moment.\"\n",
    "\n",
    "# Create a Chat instance\n",
    "chatbot = Chat(patterns, reflections)\n",
    "\n",
    "# Function to start the chatbot\n",
    "def chat_with_bot():\n",
    "    print(\"Hello! I'm a simple chatbot. You can type 'bye' to exit.\")\n",
    "    while True:\n",
    "        user_input = input(\"You: \")\n",
    "        if user_input.lower() == 'bye':\n",
    "            print(\"Chatbot: Goodbye!\")\n",
    "            break\n",
    "        else:\n",
    "            response = chatbot.respond(user_input)\n",
    "            if response:\n",
    "                print(\"Chatbot:\", ' '.join(response))  # Join the response list with a space\n",
    "            else:\n",
    "                print(\"Chatbot:\", default_response)\n",
    "\n",
    "if __name__ == \"__main__\":\n",
    "    chat_with_bot()\n"
   ]
  },
  {
   "cell_type": "code",
   "execution_count": null,
   "id": "83e9aea5",
   "metadata": {},
   "outputs": [],
   "source": []
  }
 ],
 "metadata": {
  "kernelspec": {
   "display_name": "Python 3 (ipykernel)",
   "language": "python",
   "name": "python3"
  },
  "language_info": {
   "codemirror_mode": {
    "name": "ipython",
    "version": 3
   },
   "file_extension": ".py",
   "mimetype": "text/x-python",
   "name": "python",
   "nbconvert_exporter": "python",
   "pygments_lexer": "ipython3",
   "version": "3.11.1"
  }
 },
 "nbformat": 4,
 "nbformat_minor": 5
}
