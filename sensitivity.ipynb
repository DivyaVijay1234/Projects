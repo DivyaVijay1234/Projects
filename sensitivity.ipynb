{
 "cells": [
  {
   "cell_type": "code",
   "execution_count": 2,
   "id": "cdd66df0",
   "metadata": {
    "scrolled": true
   },
   "outputs": [
    {
     "ename": "AttributeError",
     "evalue": "'Sentiment' object has no attribute 'analyzer'",
     "output_type": "error",
     "traceback": [
      "\u001b[1;31m---------------------------------------------------------------------------\u001b[0m",
      "\u001b[1;31mAttributeError\u001b[0m                            Traceback (most recent call last)",
      "Cell \u001b[1;32mIn[2], line 4\u001b[0m\n\u001b[0;32m      1\u001b[0m \u001b[38;5;28;01mfrom\u001b[39;00m \u001b[38;5;21;01mtextblob\u001b[39;00m \u001b[38;5;28;01mimport\u001b[39;00m TextBlob\n\u001b[0;32m      3\u001b[0m \u001b[38;5;66;03m# Set default analyzer to 'vader'\u001b[39;00m\n\u001b[1;32m----> 4\u001b[0m TextBlob\u001b[38;5;241m.\u001b[39mDEFAULT_ANALYZER \u001b[38;5;241m=\u001b[39m \u001b[43mTextBlob\u001b[49m\u001b[43m(\u001b[49m\u001b[38;5;124;43m'\u001b[39;49m\u001b[38;5;124;43m \u001b[39;49m\u001b[38;5;124;43m'\u001b[39;49m\u001b[43m)\u001b[49m\u001b[38;5;241;43m.\u001b[39;49m\u001b[43msentiment\u001b[49m\u001b[38;5;241;43m.\u001b[39;49m\u001b[43manalyzer\u001b[49m\u001b[38;5;241m.\u001b[39m\u001b[38;5;18m__class__\u001b[39m\u001b[38;5;241m.\u001b[39m\u001b[38;5;18m__name__\u001b[39m\u001b[38;5;241m.\u001b[39mlower()\n\u001b[0;32m      5\u001b[0m \u001b[38;5;28mprint\u001b[39m(\u001b[38;5;124mf\u001b[39m\u001b[38;5;124m\"\u001b[39m\u001b[38;5;124mDefault analyzer set to \u001b[39m\u001b[38;5;132;01m{\u001b[39;00mTextBlob\u001b[38;5;241m.\u001b[39mDEFAULT_ANALYZER\u001b[38;5;132;01m}\u001b[39;00m\u001b[38;5;124m\"\u001b[39m)\n\u001b[0;32m      7\u001b[0m \u001b[38;5;66;03m# Text input to analyze\u001b[39;00m\n",
      "\u001b[1;31mAttributeError\u001b[0m: 'Sentiment' object has no attribute 'analyzer'"
     ]
    }
   ],
   "source": []
  },
  {
   "cell_type": "code",
   "execution_count": 7,
   "id": "5aa7756e",
   "metadata": {},
   "outputs": [
    {
     "name": "stdout",
     "output_type": "stream",
     "text": [
      "Collecting vaderSentimentNote: you may need to restart the kernel to use updated packages.\n",
      "\n",
      "  Using cached vaderSentiment-3.3.2-py2.py3-none-any.whl (125 kB)\n",
      "Collecting requests\n",
      "  Using cached requests-2.28.2-py3-none-any.whl (62 kB)\n",
      "Requirement already satisfied: charset-normalizer<4,>=2 in c:\\users\\ratna\\appdata\\local\\programs\\python\\python311\\lib\\site-packages (from requests->vaderSentiment) (3.0.1)\n",
      "Requirement already satisfied: idna<4,>=2.5 in c:\\users\\ratna\\appdata\\local\\programs\\python\\python311\\lib\\site-packages (from requests->vaderSentiment) (3.4)\n",
      "Requirement already satisfied: urllib3<1.27,>=1.21.1 in c:\\users\\ratna\\appdata\\local\\programs\\python\\python311\\lib\\site-packages (from requests->vaderSentiment) (1.26.14)\n",
      "Collecting certifi>=2017.4.17\n",
      "  Using cached certifi-2022.12.7-py3-none-any.whl (155 kB)\n",
      "Installing collected packages: certifi, requests, vaderSentiment\n",
      "Successfully installed certifi-2022.12.7 requests-2.28.2 vaderSentiment-3.3.2\n"
     ]
    }
   ],
   "source": [
    "%pip install vaderSentiment"
   ]
  },
  {
   "cell_type": "code",
   "execution_count": 1,
   "id": "98617bbf",
   "metadata": {},
   "outputs": [
    {
     "name": "stdout",
     "output_type": "stream",
     "text": [
      "Sentiment polarity score 1:  0.5719\n",
      "positive emotion\n",
      "Sentiment polarity score 2:  -0.4767\n",
      "negative emotion\n",
      "Sentiment polarity score 3:  -0.6307\n",
      "negative emotion\n",
      "Sentiment polarity score 4:  0.2732\n",
      "positive emotion\n",
      "Sentiment polarity score 5:  -0.1531\n",
      "negative emotion\n",
      "Sentiment polarity score 6:  0.0\n",
      "neutral emotion\n",
      "enter a statement to check sentiment\n",
      "I had a nice day\n",
      "Sentiment polarity score 7:  0.4215\n",
      "positive emotion\n"
     ]
    }
   ],
   "source": [
    "from textblob import TextBlob\n",
    "from vaderSentiment.vaderSentiment import SentimentIntensityAnalyzer #library imported\n",
    "\n",
    "# Set default analyzer to 'vader'\n",
    "TextBlob.DEFAULT_ANALYZER = 'vader'\n",
    "\n",
    "# Text input to check sentiment\n",
    "text1 = \"I am happy\"\n",
    "#TextBlob object created\n",
    "blob1 = TextBlob(text1)\n",
    "# Create an instance of the SentimentIntensityAnalyzer class\n",
    "analyzer = SentimentIntensityAnalyzer()\n",
    "# Get the sentiment polarity (positive, neutral, or negative) using the polarity_scores() method of the analyzer object on the text\n",
    "sentiment1 = analyzer.polarity_scores(text1)\n",
    "# Print the sentiment polarity score\n",
    "print(\"Sentiment polarity score 1: \", sentiment1['compound'])\n",
    "#check emotion of the statement\n",
    "if sentiment1['compound'] > 0:\n",
    "    print('positive emotion')\n",
    "elif sentiment1['compound'] == 0:\n",
    "    print('neutral emotion')\n",
    "else:\n",
    "    print('negative emotion')\n",
    "    \n",
    "text2=\"I am sad\"\n",
    "blob2=TextBlob(text2)\n",
    "sentiment2 = analyzer.polarity_scores(text2)\n",
    "print(\"Sentiment polarity score 2: \", sentiment2['compound'])\n",
    "if sentiment2['compound'] > 0:\n",
    "    print('positive emotion')\n",
    "elif sentiment2['compound'] == 0:\n",
    "    print('neutral emotion')\n",
    "else:\n",
    "    print('negative emotion')\n",
    "    \n",
    "text3=\"I am neither happy nor sad\"\n",
    "blob3=TextBlob(text3)\n",
    "sentiment3 = analyzer.polarity_scores(text3)\n",
    "print(\"Sentiment polarity score 3: \", sentiment3['compound'])\n",
    "if sentiment3['compound'] > 0:\n",
    "    print('positive emotion')\n",
    "elif sentiment3['compound'] == 0:\n",
    "    print('neutral emotion')\n",
    "else:\n",
    "    print('negative emotion')\n",
    "    \n",
    "text4=\"I dislike being happy\"\n",
    "blob4=TextBlob(text4)\n",
    "sentiment4 = analyzer.polarity_scores(text4)\n",
    "print(\"Sentiment polarity score 4: \", sentiment4['compound'])\n",
    "if sentiment4['compound'] > 0:\n",
    "    print('positive emotion')\n",
    "elif sentiment4['compound'] == 0:\n",
    "    print('neutral emotion')\n",
    "else:\n",
    "    print('negative emotion')\n",
    "    \n",
    "text5=\"I like being sad\"\n",
    "blob5=TextBlob(text5)\n",
    "sentiment5 = analyzer.polarity_scores(text5)\n",
    "print(\"Sentiment polarity score 5: \", sentiment5['compound'])\n",
    "if sentiment5['compound'] > 0:\n",
    "    print('positive emotion')\n",
    "elif sentiment5['compound'] == 0:\n",
    "    print('neutral emotion')\n",
    "else:\n",
    "    print('negative emotion')\n",
    "\n",
    "text6=\"I am neutral\"\n",
    "blob6=TextBlob(text6)\n",
    "sentiment6 = analyzer.polarity_scores(text6)\n",
    "print(\"Sentiment polarity score 6: \", sentiment6['compound'])\n",
    "if sentiment6['compound'] > 0:\n",
    "    print('positive emotion')\n",
    "elif sentiment6['compound'] == 0:\n",
    "    print('neutral emotion')\n",
    "else:\n",
    "    print('negative emotion')\n",
    "    \n",
    "print(\"enter a statement to check sentiment\")\n",
    "text7=input()\n",
    "blob7=TextBlob(text7)\n",
    "sentiment7 = analyzer.polarity_scores(text7)\n",
    "print(\"Sentiment polarity score 7: \", sentiment7['compound'])\n",
    "if sentiment7['compound'] > 0:\n",
    "    print('positive emotion')\n",
    "elif sentiment7['compound'] == 0:\n",
    "    print('neutral emotion')\n",
    "else:\n",
    "    print('negative emotion')"
   ]
  },
  {
   "cell_type": "code",
   "execution_count": null,
   "id": "4a0024bd",
   "metadata": {},
   "outputs": [],
   "source": []
  }
 ],
 "metadata": {
  "kernelspec": {
   "display_name": "Python 3 (ipykernel)",
   "language": "python",
   "name": "python3"
  },
  "language_info": {
   "codemirror_mode": {
    "name": "ipython",
    "version": 3
   },
   "file_extension": ".py",
   "mimetype": "text/x-python",
   "name": "python",
   "nbconvert_exporter": "python",
   "pygments_lexer": "ipython3",
   "version": "3.11.1"
  }
 },
 "nbformat": 4,
 "nbformat_minor": 5
}
